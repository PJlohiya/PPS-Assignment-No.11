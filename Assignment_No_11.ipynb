{
  "nbformat": 4,
  "nbformat_minor": 0,
  "metadata": {
    "colab": {
      "provenance": [],
      "authorship_tag": "ABX9TyNTcLspurwqnmfuVVghjU/5",
      "include_colab_link": true
    },
    "kernelspec": {
      "name": "python3",
      "display_name": "Python 3"
    },
    "language_info": {
      "name": "python"
    }
  },
  "cells": [
    {
      "cell_type": "markdown",
      "metadata": {
        "id": "view-in-github",
        "colab_type": "text"
      },
      "source": [
        "<a href=\"https://colab.research.google.com/github/PJlohiya/PPS-Assignment-No.11/blob/main/Assignment_No_11.ipynb\" target=\"_parent\"><img src=\"https://colab.research.google.com/assets/colab-badge.svg\" alt=\"Open In Colab\"/></a>"
      ]
    },
    {
      "cell_type": "code",
      "execution_count": 1,
      "metadata": {
        "colab": {
          "base_uri": "https://localhost:8080/"
        },
        "id": "UJB0YERZqHrP",
        "outputId": "8e569b7e-d6a2-4b20-adf0-4a1ac35c0c5b"
      },
      "outputs": [
        {
          "output_type": "stream",
          "name": "stdout",
          "text": [
            "Hello World\n"
          ]
        }
      ],
      "source": [
        "print(\"Hello World\")"
      ]
    },
    {
      "cell_type": "code",
      "source": [
        "import numpy as np\n",
        "a=[[1,2,3],[4,5,6],[7,8,9]]\n",
        "b=np.array(a)\n",
        "\n",
        "#horizontal slicing\n",
        "print(b[:])\n",
        "print(b[0:2])\n",
        "print(b[1:3])\n",
        "print(b[2:3])\n",
        "\n",
        "#vertical slicing\n",
        "print(b[:,0:2])\n",
        "print(b[:,2:3])\n",
        "print(b[0:2,0:2])"
      ],
      "metadata": {
        "colab": {
          "base_uri": "https://localhost:8080/"
        },
        "id": "GdM2gpniqV1x",
        "outputId": "a2a57e8c-1cda-4bce-ce1e-ea7a33d7d758"
      },
      "execution_count": 2,
      "outputs": [
        {
          "output_type": "stream",
          "name": "stdout",
          "text": [
            "[[1 2 3]\n",
            " [4 5 6]\n",
            " [7 8 9]]\n",
            "[[1 2 3]\n",
            " [4 5 6]]\n",
            "[[4 5 6]\n",
            " [7 8 9]]\n",
            "[[7 8 9]]\n",
            "[[1 2]\n",
            " [4 5]\n",
            " [7 8]]\n",
            "[[3]\n",
            " [6]\n",
            " [9]]\n",
            "[[1 2]\n",
            " [4 5]]\n"
          ]
        }
      ]
    },
    {
      "cell_type": "code",
      "source": [],
      "metadata": {
        "id": "R6pU6sxjr1aB"
      },
      "execution_count": null,
      "outputs": []
    }
  ]
}